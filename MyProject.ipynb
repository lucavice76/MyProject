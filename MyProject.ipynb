{
 "cells": [
  {
   "cell_type": "code",
   "execution_count": null,
   "id": "a5585ed4",
   "metadata": {},
   "outputs": [],
   "source": [
    "#GIT"
   ]
  },
  {
   "cell_type": "code",
   "execution_count": null,
   "id": "fc9b0386",
   "metadata": {},
   "outputs": [],
   "source": [
    "'This is my project'"
   ]
  },
  {
   "cell_type": "code",
   "execution_count": null,
   "id": "241ba1bb",
   "metadata": {},
   "outputs": [],
   "source": [
    "\"This is my actual first change to be checked in GIT\""
   ]
  }
 ],
 "metadata": {
  "kernelspec": {
   "display_name": "Python 3",
   "language": "python",
   "name": "python3"
  },
  "language_info": {
   "codemirror_mode": {
    "name": "ipython",
    "version": 3
   },
   "file_extension": ".py",
   "mimetype": "text/x-python",
   "name": "python",
   "nbconvert_exporter": "python",
   "pygments_lexer": "ipython3",
   "version": "3.8.8"
  }
 },
 "nbformat": 4,
 "nbformat_minor": 5
}
